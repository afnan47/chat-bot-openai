{
 "cells": [
  {
   "cell_type": "markdown",
   "metadata": {},
   "source": [
    "### Setting Up Keys"
   ]
  },
  {
   "cell_type": "code",
   "execution_count": 1,
   "metadata": {},
   "outputs": [],
   "source": [
    "import openai\n",
    "\n",
    "# Get Keys\n",
    "openai.api_key  = ''"
   ]
  },
  {
   "cell_type": "markdown",
   "metadata": {},
   "source": [
    "#### System:\n",
    "1. How the model identifies it self.\n",
    "2. Area of expertise.\n",
    "3. Fine Tuning."
   ]
  },
  {
   "cell_type": "code",
   "execution_count": 11,
   "metadata": {},
   "outputs": [],
   "source": [
    "# Model Identifies as a FIFA e-sports guide\n",
    "\n",
    "INSTRUCTIONS = \"\"\"\n",
    "You are Chat Bot that caters to FIFA e-sports fans. \\\n",
    "You will first greet the user using football memes or quotes or \"Hello Gamer!\".\\\n",
    "You should be able to:\n",
    "1. Give updates on latest available FIFA e-sports tournaments, match schedules and results.\\\n",
    "2. Provide profiles of professional FIFA players, analyze their strategies, and offer insights into the evolving meta of the game.\\\n",
    "3. Answer gameplay-related questions and share tips to improve users' FIFA gaming skills. \\\n",
    "\"\"\"\n"
   ]
  },
  {
   "cell_type": "code",
   "execution_count": 12,
   "metadata": {},
   "outputs": [],
   "source": [
    "# Set up parameters for the bot\n",
    "\n",
    "# Let the bot be slightly creative while remaining factual at the same time.\n",
    "TEMPERATURE = 0.3\n",
    "\n",
    "# Max number of tokens for response\n",
    "MAX_TOKENS = 500\n",
    "\n",
    "# No penalty for repeating tokens\n",
    "FREQUENCY_PENALTY = 0\n",
    "\n",
    "# Flexible responses\n",
    "PRESENCE_PENALTY = 0.6"
   ]
  },
  {
   "cell_type": "code",
   "execution_count": 13,
   "metadata": {},
   "outputs": [],
   "source": [
    "# Check if the question is safe to ask the model\n",
    "def get_moderation(question):\n",
    "    response = openai.Moderation.create(input=question)\n",
    "    if response.results[0].flagged:\n",
    "        return True\n",
    "    return False"
   ]
  },
  {
   "cell_type": "code",
   "execution_count": 14,
   "metadata": {},
   "outputs": [],
   "source": [
    "def get_completion(prompt):\n",
    "    messages = [{\"role\": \"user\", \"content\": prompt}]\n",
    "    response = openai.ChatCompletion.create(\n",
    "        model=\"gpt-3.5-turbo\",\n",
    "        messages=messages,\n",
    "        temperature=TEMPERATURE,\n",
    "        max_tokens=MAX_TOKENS,\n",
    "        # Top_p gives variable responses\n",
    "        top_p=1,\n",
    "        frequency_penalty=FREQUENCY_PENALTY,\n",
    "        presence_penalty=PRESENCE_PENALTY,\n",
    "    )\n",
    "    return response.choices[0].message[\"content\"]"
   ]
  },
  {
   "cell_type": "code",
   "execution_count": 15,
   "metadata": {},
   "outputs": [],
   "source": [
    "def get_summary(text):\n",
    "    prompt = f\"\"\"\n",
    "    Return the summary of given text in maximum 30 words\n",
    "    ```{text}```\n",
    "    \"\"\"\n",
    "    \n",
    "    response = get_completion(prompt)\n",
    "    return response"
   ]
  },
  {
   "cell_type": "code",
   "execution_count": 16,
   "metadata": {},
   "outputs": [],
   "source": [
    "def get_completion_from_messages(messages):\n",
    "    response = openai.ChatCompletion.create(\n",
    "        model=\"gpt-3.5-turbo\",\n",
    "        messages=messages,\n",
    "        temperature=TEMPERATURE,\n",
    "        max_tokens=MAX_TOKENS,\n",
    "        # Top_p gives variable responses\n",
    "        top_p=1,\n",
    "        frequency_penalty=FREQUENCY_PENALTY,\n",
    "        presence_penalty=PRESENCE_PENALTY,\n",
    "    )\n",
    "    return response.choices[0].message[\"content\"]"
   ]
  },
  {
   "cell_type": "code",
   "execution_count": 17,
   "metadata": {},
   "outputs": [],
   "source": [
    "messages =  [  \n",
    "{'role':'system', 'content':'You are an assistant that provides information about FIFA.'},    \n",
    "{'role':'user', 'content':'What is Fifa'},   \n",
    "{'role':'assistant', 'content':'FIFA is a football video game published by Electronic Arts'},   \n",
    "{'role':'user', 'content':'What is football'},\n",
    "{'role':'assistant','content':'Football is a family of team sports that involve, to varying degrees, kicking a ball to score a goal'}]"
   ]
  },
  {
   "cell_type": "markdown",
   "metadata": {},
   "source": [
    "#### Algorithm:\n",
    "1. Get User Input\n",
    "2. Moderate Input\n",
    "3. Call API\n",
    "4. Store Response\n",
    "5. Repeat steps 1 to 4 until user says exit."
   ]
  },
  {
   "cell_type": "code",
   "execution_count": 18,
   "metadata": {},
   "outputs": [
    {
     "name": "stdout",
     "output_type": "stream",
     "text": [
      "User: Hi\n",
      "Assistant: Hello! How can I assist you today?\n",
      "User: Latest e-sports FIFA that took place?\n",
      "Assistant: As an AI language model, I don't have real-time information. However, as of my last update, some of the recent major FIFA esports tournaments include the FIFA eWorld Cup, which is the pinnacle event in competitive FIFA, and the FIFA Global Series, a series of regional and international tournaments leading up to the eWorld Cup. It's always best to check official FIFA or esports news sources for the most up-to-date information on recent tournaments.\n",
      "User: Who was the winner?\n",
      "Assistant: The winner of the most recent FIFA eWorld Cup was Mosaad \"Msdossary\" Aldossary from Saudi Arabia. However, please note that this information may change as new tournaments take place.\n",
      "User: By what margin did he won?\n",
      "Assistant: Mosaad \"Msdossary\" Aldossary won the FIFA eWorld Cup 2018 by defeating Stefano \"StefanoPinna\" Pinna with a score of 4-0 in the Grand Final.\n",
      "User: How do I play like him?\n",
      "Assistant: To play like a professional FIFA player such as Msdossary, here are some tips:\n",
      "\n",
      "1. Practice: Dedicate time to playing and improving your skills. Regular practice will help you develop your gameplay, decision-making, and reaction time.\n",
      "\n",
      "2. Study the game: Watch professional FIFA matches and analyze the strategies and techniques used by top players. Pay attention to their positioning, passing, shooting, and defensive tactics.\n",
      "\n",
      "3. Master the controls: Familiarize yourself with the controls and mechanics of the game. Practice dribbling, passing, shooting, and skill moves to enhance your gameplay.\n",
      "\n",
      "4. Understand the meta: Stay updated on the latest updates and patches in FIFA. Understand the current meta, which refers to the most effective strategies and player attributes that are dominant in the game.\n",
      "\n",
      "5. Play against skilled opponents: Challenge yourself by playing against strong opponents. This will expose you to different play styles and help you improve your skills.\n",
      "\n",
      "6. Analyze your gameplay: Record and review your matches to identify areas for improvement. Look for mistakes, missed opportunities, and areas where you can enhance your gameplay.\n",
      "\n",
      "7. Join online communities: Engage with the FIFA community, participate in forums, and join online leagues or tournaments. Interacting with other players can provide valuable insights and opportunities to test your skills.\n",
      "\n",
      "Remember, becoming a top FIFA player requires dedication, practice, and continuous improvement.\n",
      "User: Thanks for that!, See you next time!\n",
      "Assistant: You're welcome! If you have any more questions in the future, feel free to ask. See you next time!\n",
      "User: exit\n",
      "Assistant: Bye bye! And always remember 'You will never walk alone'\n"
     ]
    }
   ],
   "source": [
    "while True:\n",
    "    question = input(\"Get to know all about FIFA! Ask questions?:\")\n",
    "    # Check \n",
    "    print(\"User: \" + question)\n",
    "    if get_moderation(question):\n",
    "        print(\"Assistant: Sorry your questions did pass the moderation check\")\n",
    "        continue\n",
    "    if question == 'exit':\n",
    "        print(\"Assistant: Bye bye! And always remember 'You will never walk alone'\")\n",
    "        break\n",
    "    messages.append({'role':'user','content':question})\n",
    "    response = get_completion_from_messages(messages)   \n",
    "    messages.append({'role':'assistant','content':get_summary(response)})\n",
    "    print(\"Assistant: \" + response)"
   ]
  },
  {
   "cell_type": "code",
   "execution_count": null,
   "metadata": {},
   "outputs": [],
   "source": []
  }
 ],
 "metadata": {
  "kernelspec": {
   "display_name": "chatgpt",
   "language": "python",
   "name": "python3"
  },
  "language_info": {
   "codemirror_mode": {
    "name": "ipython",
    "version": 3
   },
   "file_extension": ".py",
   "mimetype": "text/x-python",
   "name": "python",
   "nbconvert_exporter": "python",
   "pygments_lexer": "ipython3",
   "version": "3.11.4"
  },
  "orig_nbformat": 4
 },
 "nbformat": 4,
 "nbformat_minor": 2
}
